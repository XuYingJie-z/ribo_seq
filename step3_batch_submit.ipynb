{
 "cells": [
  {
   "cell_type": "code",
   "execution_count": 16,
   "metadata": {},
   "outputs": [],
   "source": [
    "import os,sys\n",
    "import pandas as pd"
   ]
  },
  {
   "cell_type": "code",
   "execution_count": 21,
   "metadata": {},
   "outputs": [],
   "source": [
    "\n",
    "sample_info = pd.DataFrame(columns=[\"sample_name\", \"trimed_forward_fq\"])\n",
    "\n",
    "\n",
    "data_path = os.path.abspath(\"../data\") + \"/\"\n",
    "trimed_path = os.path.abspath(\"../trimmed/\") + \"/\"\n",
    "for path in os.listdir(data_path):\n",
    "    # print(os.path.abspath(path))\n",
    "    if os.path.isdir(data_path + path):\n",
    "        sample_name = path\n",
    "        trimed_forward_fq = trimed_path + sample_name +\"_trimed.fastq.gz\"\n",
    "        sample_info = pd.concat([sample_info, pd.DataFrame([[sample_name, trimed_forward_fq]], columns=[\"sample_name\", \"trimed_forward_fq\"])])\n",
    "\n",
    "sample_info = sample_info.reset_index(drop=True)"
   ]
  },
  {
   "cell_type": "code",
   "execution_count": 22,
   "metadata": {},
   "outputs": [],
   "source": [
    "# 加上 star 比对软件输出的后缀\n",
    "mapping_path =  os.path.abspath(\"../mapping/\") + \"/\"\n",
    "sample_info[\"bam_path\"] = sample_info.apply(lambda x: mapping_path + x[\"sample_name\"] + \"_starAligned.toTranscriptome.out.bam\", axis=1)"
   ]
  },
  {
   "cell_type": "code",
   "execution_count": 23,
   "metadata": {},
   "outputs": [],
   "source": [
    "# 去掉 公共数据\n",
    "public_sample_info = sample_info.loc[ sample_info[\"sample_name\"].str.contains(\"SRR\"), :]\n",
    "sample_info = sample_info.loc[~sample_info[\"sample_name\"].str.contains(\"SRR\"), :]"
   ]
  },
  {
   "cell_type": "markdown",
   "metadata": {},
   "source": [
    "## Ribocode 正式分析"
   ]
  },
  {
   "cell_type": "code",
   "execution_count": 15,
   "metadata": {},
   "outputs": [
    {
     "name": "stdout",
     "output_type": "stream",
     "text": [
      "process sample :  smmc-siYB1-2-RP\n",
      "Submitted batch job 26529106\n"
     ]
    },
    {
     "data": {
      "text/plain": [
       "0    None\n",
       "dtype: object"
      ]
     },
     "execution_count": 15,
     "metadata": {},
     "output_type": "execute_result"
    }
   ],
   "source": [
    "RiboCode_annot = \"/dssg/home/acct-bioxsyy/bioxsyy-xyj/xyj/reference/human/GRCh38/RiboCode_annot/\"\n",
    "\n",
    "\n",
    "# 根据要求之分析两个样本\n",
    "\n",
    "# sample_info_select.iloc[0,] = [sample_info_select.iloc[0,][\"sample_name\"], \"/dssg/home/acct-bioxsyy/bioxsyy-xyj/xyj/learn/riboseq/wh_data/smmc-siYB1-2-RP/smmc-siYB1-2-RP_S15_L001_R1_001.fastq.gz\", \"/dssg/home/acct-bioxsyy/bioxsyy-xyj/xyj/learn/riboseq/wh_data/smmc-siYB1-2-RP/smmc-siYB1-2-RP_S15_L001_R2_001.fastq.gz\"]\n",
    "\n",
    "def rum_sbatch(x):\n",
    "    # 不支持多线程\n",
    "    command = f'sbatch step3_call_ORF.sh -i {x[\"bam_path\"]} -n {x[\"sample_name\"]} -r {RiboCode_annot} '\n",
    "    print(f'process sample :  {x[\"sample_name\"]}')\n",
    "    os.system(command)\n",
    "\n",
    "sample_info.apply(rum_sbatch, axis=1)"
   ]
  },
  {
   "cell_type": "code",
   "execution_count": 25,
   "metadata": {},
   "outputs": [
    {
     "name": "stdout",
     "output_type": "stream",
     "text": [
      "process sample :  SRR1630831\n",
      "Submitted batch job 26529325\n"
     ]
    },
    {
     "data": {
      "text/plain": [
       "1    None\n",
       "dtype: object"
      ]
     },
     "execution_count": 25,
     "metadata": {},
     "output_type": "execute_result"
    }
   ],
   "source": [
    "RiboCode_annot = \"/dssg/home/acct-bioxsyy/bioxsyy-xyj/xyj/reference/human/GRCh38/RiboCode_annot/\"\n",
    "\n",
    "\n",
    "# 根据要求之分析两个样本\n",
    "\n",
    "# sample_info_select.iloc[0,] = [sample_info_select.iloc[0,][\"sample_name\"], \"/dssg/home/acct-bioxsyy/bioxsyy-xyj/xyj/learn/riboseq/wh_data/smmc-siYB1-2-RP/smmc-siYB1-2-RP_S15_L001_R1_001.fastq.gz\", \"/dssg/home/acct-bioxsyy/bioxsyy-xyj/xyj/learn/riboseq/wh_data/smmc-siYB1-2-RP/smmc-siYB1-2-RP_S15_L001_R2_001.fastq.gz\"]\n",
    "\n",
    "def rum_sbatch(x):\n",
    "    # 不支持多线程\n",
    "    command = f'sbatch step3_call_ORF.sh -i {x[\"bam_path\"]} -n {x[\"sample_name\"]} -r {RiboCode_annot} '\n",
    "    print(f'process sample :  {x[\"sample_name\"]}')\n",
    "    os.system(command)\n",
    "\n",
    "public_sample_info.apply(rum_sbatch, axis=1)"
   ]
  },
  {
   "cell_type": "markdown",
   "metadata": {},
   "source": [
    "### 换成 genecode 的 update index 再试一下"
   ]
  },
  {
   "cell_type": "code",
   "execution_count": 5,
   "metadata": {},
   "outputs": [],
   "source": [
    "sample_info[\"sample_name\"] = sample_info[\"sample_name\"] + \"_genecode\""
   ]
  },
  {
   "cell_type": "code",
   "execution_count": 7,
   "metadata": {},
   "outputs": [
    {
     "name": "stdout",
     "output_type": "stream",
     "text": [
      "process sample :  SRR1630831_genecode\n",
      "Submitted batch job 26518846\n"
     ]
    },
    {
     "data": {
      "text/plain": [
       "0    None\n",
       "dtype: object"
      ]
     },
     "execution_count": 7,
     "metadata": {},
     "output_type": "execute_result"
    }
   ],
   "source": [
    "\n",
    "# 报错了，把 gtf update 一下试试\n",
    "RiboCode_annot = \"/dssg/home/acct-bioxsyy/bioxsyy-xyj/xyj/reference/human/GRCh38/RiboCode_annot/update_gtf/\"\n",
    "\n",
    "\n",
    "# 只分析 ribo-seq 样本\n",
    "# sample_info_select = sample_info.iloc[[1],:] \n",
    "# sample_info_select.iloc[0,] = [sample_info_select.iloc[0,][\"sample_name\"], \"/dssg/home/acct-bioxsyy/bioxsyy-xyj/xyj/learn/riboseq/wh_data/smmc-siYB1-2-RP/smmc-siYB1-2-RP_S15_L001_R1_001.fastq.gz\", \"/dssg/home/acct-bioxsyy/bioxsyy-xyj/xyj/learn/riboseq/wh_data/smmc-siYB1-2-RP/smmc-siYB1-2-RP_S15_L001_R2_001.fastq.gz\"]\n",
    "\n",
    "def rum_sbatch(x):\n",
    "    # 不支持多线程\n",
    "    command = f'sbatch step3_call_ORF.sh -n {x[\"sample_name\"]} -r {RiboCode_annot} '\n",
    "    print(f'process sample :  {x[\"sample_name\"]}')\n",
    "    os.system(command)\n",
    "\n",
    "sample_info.apply(rum_sbatch, axis=1)"
   ]
  },
  {
   "cell_type": "code",
   "execution_count": 8,
   "metadata": {},
   "outputs": [
    {
     "data": {
      "text/html": [
       "<div>\n",
       "<style scoped>\n",
       "    .dataframe tbody tr th:only-of-type {\n",
       "        vertical-align: middle;\n",
       "    }\n",
       "\n",
       "    .dataframe tbody tr th {\n",
       "        vertical-align: top;\n",
       "    }\n",
       "\n",
       "    .dataframe thead th {\n",
       "        text-align: right;\n",
       "    }\n",
       "</style>\n",
       "<table border=\"1\" class=\"dataframe\">\n",
       "  <thead>\n",
       "    <tr style=\"text-align: right;\">\n",
       "      <th></th>\n",
       "      <th>sample_name</th>\n",
       "      <th>trimed_forward_fq</th>\n",
       "      <th>trimed_reverse_fq</th>\n",
       "    </tr>\n",
       "  </thead>\n",
       "  <tbody>\n",
       "    <tr>\n",
       "      <th>1</th>\n",
       "      <td>smmc-siYB1-2-RP_genecode</td>\n",
       "      <td>/dssg/home/acct-bioxsyy/bioxsyy-xyj/xyj/learn/...</td>\n",
       "      <td>/dssg/home/acct-bioxsyy/bioxsyy-xyj/xyj/learn/...</td>\n",
       "    </tr>\n",
       "  </tbody>\n",
       "</table>\n",
       "</div>"
      ],
      "text/plain": [
       "                sample_name  \\\n",
       "1  smmc-siYB1-2-RP_genecode   \n",
       "\n",
       "                                   trimed_forward_fq  \\\n",
       "1  /dssg/home/acct-bioxsyy/bioxsyy-xyj/xyj/learn/...   \n",
       "\n",
       "                                   trimed_reverse_fq  \n",
       "1  /dssg/home/acct-bioxsyy/bioxsyy-xyj/xyj/learn/...  "
      ]
     },
     "execution_count": 8,
     "metadata": {},
     "output_type": "execute_result"
    }
   ],
   "source": [
    "sample_info_select"
   ]
  }
 ],
 "metadata": {
  "kernelspec": {
   "display_name": "Python 3.8.17 ('abdockgen': conda)",
   "language": "python",
   "name": "python3"
  },
  "language_info": {
   "codemirror_mode": {
    "name": "ipython",
    "version": 3
   },
   "file_extension": ".py",
   "mimetype": "text/x-python",
   "name": "python",
   "nbconvert_exporter": "python",
   "pygments_lexer": "ipython3",
   "version": "3.8.17"
  },
  "orig_nbformat": 4,
  "vscode": {
   "interpreter": {
    "hash": "5663188dab25683416c9f47dd91c75d98f6d095687054be825dc1f220ac00219"
   }
  }
 },
 "nbformat": 4,
 "nbformat_minor": 2
}
