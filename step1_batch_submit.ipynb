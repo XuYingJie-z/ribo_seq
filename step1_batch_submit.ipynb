{
 "cells": [
  {
   "cell_type": "code",
   "execution_count": 1,
   "metadata": {},
   "outputs": [],
   "source": [
    "import os,sys\n",
    "import pandas as pd\n"
   ]
  },
  {
   "cell_type": "code",
   "execution_count": 2,
   "metadata": {},
   "outputs": [
    {
     "data": {
      "text/html": [
       "<div>\n",
       "<style scoped>\n",
       "    .dataframe tbody tr th:only-of-type {\n",
       "        vertical-align: middle;\n",
       "    }\n",
       "\n",
       "    .dataframe tbody tr th {\n",
       "        vertical-align: top;\n",
       "    }\n",
       "\n",
       "    .dataframe thead th {\n",
       "        text-align: right;\n",
       "    }\n",
       "</style>\n",
       "<table border=\"1\" class=\"dataframe\">\n",
       "  <thead>\n",
       "    <tr style=\"text-align: right;\">\n",
       "      <th></th>\n",
       "      <th>sample_name</th>\n",
       "      <th>forward_fq</th>\n",
       "      <th>reverse_fq</th>\n",
       "    </tr>\n",
       "  </thead>\n",
       "  <tbody>\n",
       "  </tbody>\n",
       "</table>\n",
       "</div>"
      ],
      "text/plain": [
       "Empty DataFrame\n",
       "Columns: [sample_name, forward_fq, reverse_fq]\n",
       "Index: []"
      ]
     },
     "execution_count": 2,
     "metadata": {},
     "output_type": "execute_result"
    }
   ],
   "source": [
    "\n",
    "sample_info = pd.DataFrame(columns=[\"sample_name\", \"forward_fq\", \"reverse_fq\"])\n",
    "sample_info"
   ]
  },
  {
   "cell_type": "code",
   "execution_count": 3,
   "metadata": {},
   "outputs": [],
   "source": [
    "# 已经知道文件夹结构了，通用方法暂时不想写了\n",
    "# os.path.abspath(path) 获取文件的绝对路径\n",
    "\n",
    "data_path = os.path.abspath(\"../data\") + \"/\"\n",
    "for path in os.listdir(data_path):\n",
    "    # print(os.path.abspath(path))\n",
    "    if os.path.isdir(data_path + path):\n",
    "        sample_name = path\n",
    "        forward_fq = [data_path + path + \"/\" + i for i in os.listdir(data_path + path) if i.find(\"_R1_\") > 0]\n",
    "        reverse_fq = [data_path + path + \"/\" + i for i in os.listdir(data_path + path) if i.find(\"_R2_\") > 0]\n",
    "        sample_info = pd.concat([sample_info, pd.DataFrame([[sample_name, *forward_fq, *reverse_fq]], columns=[\"sample_name\", \"forward_fq\", \"reverse_fq\"])])\n",
    "\n"
   ]
  },
  {
   "cell_type": "code",
   "execution_count": 4,
   "metadata": {},
   "outputs": [
    {
     "data": {
      "text/html": [
       "<div>\n",
       "<style scoped>\n",
       "    .dataframe tbody tr th:only-of-type {\n",
       "        vertical-align: middle;\n",
       "    }\n",
       "\n",
       "    .dataframe tbody tr th {\n",
       "        vertical-align: top;\n",
       "    }\n",
       "\n",
       "    .dataframe thead th {\n",
       "        text-align: right;\n",
       "    }\n",
       "</style>\n",
       "<table border=\"1\" class=\"dataframe\">\n",
       "  <thead>\n",
       "    <tr style=\"text-align: right;\">\n",
       "      <th></th>\n",
       "      <th>sample_name</th>\n",
       "      <th>forward_fq</th>\n",
       "      <th>reverse_fq</th>\n",
       "    </tr>\n",
       "  </thead>\n",
       "  <tbody>\n",
       "  </tbody>\n",
       "</table>\n",
       "</div>"
      ],
      "text/plain": [
       "Empty DataFrame\n",
       "Columns: [sample_name, forward_fq, reverse_fq]\n",
       "Index: []"
      ]
     },
     "execution_count": 4,
     "metadata": {},
     "output_type": "execute_result"
    }
   ],
   "source": [
    "sample_info"
   ]
  },
  {
   "cell_type": "code",
   "execution_count": 34,
   "metadata": {},
   "outputs": [
    {
     "name": "stdout",
     "output_type": "stream",
     "text": [
      "process sample :  smmc-siNC-3-T\n",
      "Submitted batch job 26364700\n",
      "process sample :  smmc-siYB1-2-RP\n",
      "Submitted batch job 26364701\n",
      "process sample :  smmc-siNC-1-T\n",
      "Submitted batch job 26364702\n",
      "process sample :  smmc-siYB1-2-T\n",
      "Submitted batch job 26364703\n"
     ]
    },
    {
     "data": {
      "text/plain": [
       "0    None\n",
       "0    None\n",
       "0    None\n",
       "0    None\n",
       "dtype: object"
      ]
     },
     "execution_count": 34,
     "metadata": {},
     "output_type": "execute_result"
    }
   ],
   "source": [
    "def rum_sbatch(x):\n",
    "    # 线程数在这里修改\n",
    "    command = f'sbatch step1_qc_trimed.sh -i {x[\"forward_fq\"]} -I {x[\"reverse_fq\"]} -t 16 -n  {x[\"sample_name\"]} '\n",
    "    print(f'process sample :  {x[\"sample_name\"]}')\n",
    "    os.system(command)\n",
    "\n",
    "sample_info.apply(rum_sbatch, axis=1)\n"
   ]
  },
  {
   "cell_type": "code",
   "execution_count": 31,
   "metadata": {},
   "outputs": [
    {
     "name": "stdout",
     "output_type": "stream",
     "text": [
      "process sample :  smmc-siNC-3-T\n",
      "Submitted batch job 26364668\n"
     ]
    }
   ],
   "source": [
    "## 测试通过\n",
    "# test_sample = sample_info.iloc[0,:]\n",
    "# rum_sbatch(test_sample)"
   ]
  }
 ],
 "metadata": {
  "kernelspec": {
   "display_name": "Python 3.8.17 ('abdockgen': conda)",
   "language": "python",
   "name": "python3"
  },
  "language_info": {
   "codemirror_mode": {
    "name": "ipython",
    "version": 3
   },
   "file_extension": ".py",
   "mimetype": "text/x-python",
   "name": "python",
   "nbconvert_exporter": "python",
   "pygments_lexer": "ipython3",
   "version": "3.8.17"
  },
  "orig_nbformat": 4,
  "vscode": {
   "interpreter": {
    "hash": "5663188dab25683416c9f47dd91c75d98f6d095687054be825dc1f220ac00219"
   }
  }
 },
 "nbformat": 4,
 "nbformat_minor": 2
}
