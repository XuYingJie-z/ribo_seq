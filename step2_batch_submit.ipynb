{
 "cells": [
  {
   "cell_type": "code",
   "execution_count": 27,
   "metadata": {},
   "outputs": [],
   "source": [
    "import os,sys\n",
    "import pandas as pd"
   ]
  },
  {
   "cell_type": "code",
   "execution_count": 28,
   "metadata": {},
   "outputs": [],
   "source": [
    "sample_info = pd.DataFrame(columns=[\"sample_name\", \"trimed_forward_fq\", \"trimed_reverse_fq\"])\n",
    "\n",
    "data_path = os.path.abspath(\"../data\") + \"/\"\n",
    "trimed_path = os.path.abspath(\"../trimmed/\") + \"/\"\n",
    "for path in os.listdir(data_path):\n",
    "    # print(os.path.abspath(path))\n",
    "    if os.path.isdir(data_path + path):\n",
    "        sample_name = path\n",
    "        trimed_forward_fq = trimed_path + sample_name +\"_trimed_R1.fastq.gz\"\n",
    "        # print(trimed_forward_fq)\n",
    "        trimed_reverse_fq = trimed_path + sample_name +\"_trimed_R2.fastq.gz\"\n",
    "        sample_info = pd.concat([sample_info, pd.DataFrame([[sample_name, trimed_forward_fq, trimed_reverse_fq]], columns=[\"sample_name\", \"trimed_forward_fq\", \"trimed_reverse_fq\"])])\n",
    "\n",
    "sample_info = sample_info.reset_index(drop=True)"
   ]
  },
  {
   "cell_type": "code",
   "execution_count": 29,
   "metadata": {},
   "outputs": [],
   "source": [
    "# 去掉 公共数据\n",
    "public_sample_info = sample_info.loc[ sample_info[\"sample_name\"].str.contains(\"SRR\"), :]\n",
    "sample_info = sample_info.loc[~sample_info[\"sample_name\"].str.contains(\"SRR\"), :]"
   ]
  },
  {
   "cell_type": "code",
   "execution_count": 6,
   "metadata": {},
   "outputs": [
    {
     "data": {
      "text/html": [
       "<div>\n",
       "<style scoped>\n",
       "    .dataframe tbody tr th:only-of-type {\n",
       "        vertical-align: middle;\n",
       "    }\n",
       "\n",
       "    .dataframe tbody tr th {\n",
       "        vertical-align: top;\n",
       "    }\n",
       "\n",
       "    .dataframe thead th {\n",
       "        text-align: right;\n",
       "    }\n",
       "</style>\n",
       "<table border=\"1\" class=\"dataframe\">\n",
       "  <thead>\n",
       "    <tr style=\"text-align: right;\">\n",
       "      <th></th>\n",
       "      <th>sample_name</th>\n",
       "      <th>trimed_forward_fq</th>\n",
       "      <th>trimed_reverse_fq</th>\n",
       "    </tr>\n",
       "  </thead>\n",
       "  <tbody>\n",
       "    <tr>\n",
       "      <th>1</th>\n",
       "      <td>smmc-siYB1-2-RP</td>\n",
       "      <td>/dssg/home/acct-bioxsyy/bioxsyy-xyj/xyj/learn/...</td>\n",
       "      <td>/dssg/home/acct-bioxsyy/bioxsyy-xyj/xyj/learn/...</td>\n",
       "    </tr>\n",
       "    <tr>\n",
       "      <th>2</th>\n",
       "      <td>smmc-siNC-1-T</td>\n",
       "      <td>/dssg/home/acct-bioxsyy/bioxsyy-xyj/xyj/learn/...</td>\n",
       "      <td>/dssg/home/acct-bioxsyy/bioxsyy-xyj/xyj/learn/...</td>\n",
       "    </tr>\n",
       "  </tbody>\n",
       "</table>\n",
       "</div>"
      ],
      "text/plain": [
       "       sample_name                                  trimed_forward_fq  \\\n",
       "1  smmc-siYB1-2-RP  /dssg/home/acct-bioxsyy/bioxsyy-xyj/xyj/learn/...   \n",
       "2    smmc-siNC-1-T  /dssg/home/acct-bioxsyy/bioxsyy-xyj/xyj/learn/...   \n",
       "\n",
       "                                   trimed_reverse_fq  \n",
       "1  /dssg/home/acct-bioxsyy/bioxsyy-xyj/xyj/learn/...  \n",
       "2  /dssg/home/acct-bioxsyy/bioxsyy-xyj/xyj/learn/...  "
      ]
     },
     "execution_count": 6,
     "metadata": {},
     "output_type": "execute_result"
    }
   ],
   "source": [
    "sample_info.loc[sample_info[\"sample_name\"].str.contains(\"RP\") | sample_info[\"sample_name\"].str.contains(\"siNC-1-T\") , :]"
   ]
  },
  {
   "cell_type": "code",
   "execution_count": 21,
   "metadata": {},
   "outputs": [
    {
     "data": {
      "text/html": [
       "<div>\n",
       "<style scoped>\n",
       "    .dataframe tbody tr th:only-of-type {\n",
       "        vertical-align: middle;\n",
       "    }\n",
       "\n",
       "    .dataframe tbody tr th {\n",
       "        vertical-align: top;\n",
       "    }\n",
       "\n",
       "    .dataframe thead th {\n",
       "        text-align: right;\n",
       "    }\n",
       "</style>\n",
       "<table border=\"1\" class=\"dataframe\">\n",
       "  <thead>\n",
       "    <tr style=\"text-align: right;\">\n",
       "      <th></th>\n",
       "      <th>sample_name</th>\n",
       "      <th>trimed_forward_fq</th>\n",
       "      <th>trimed_reverse_fq</th>\n",
       "    </tr>\n",
       "  </thead>\n",
       "  <tbody>\n",
       "    <tr>\n",
       "      <th>1</th>\n",
       "      <td>SRR1630831</td>\n",
       "      <td>/dssg/home/acct-bioxsyy/bioxsyy-xyj/xyj/learn/...</td>\n",
       "      <td>/dssg/home/acct-bioxsyy/bioxsyy-xyj/xyj/learn/...</td>\n",
       "    </tr>\n",
       "  </tbody>\n",
       "</table>\n",
       "</div>"
      ],
      "text/plain": [
       "  sample_name                                  trimed_forward_fq  \\\n",
       "1  SRR1630831  /dssg/home/acct-bioxsyy/bioxsyy-xyj/xyj/learn/...   \n",
       "\n",
       "                                   trimed_reverse_fq  \n",
       "1  /dssg/home/acct-bioxsyy/bioxsyy-xyj/xyj/learn/...  "
      ]
     },
     "execution_count": 21,
     "metadata": {},
     "output_type": "execute_result"
    }
   ],
   "source": [
    "public_sample_info"
   ]
  },
  {
   "cell_type": "markdown",
   "metadata": {},
   "source": [
    "## Bowtie2 比对"
   ]
  },
  {
   "cell_type": "code",
   "execution_count": 8,
   "metadata": {},
   "outputs": [
    {
     "name": "stdout",
     "output_type": "stream",
     "text": [
      "process sample :  smmc-siYB1-2-RP\n",
      "Submitted batch job 26508737\n",
      "process sample :  smmc-siNC-1-T\n",
      "Submitted batch job 26508738\n"
     ]
    },
    {
     "data": {
      "text/plain": [
       "1    None\n",
       "2    None\n",
       "dtype: object"
      ]
     },
     "execution_count": 8,
     "metadata": {},
     "output_type": "execute_result"
    }
   ],
   "source": [
    "refernce_path = \"/dssg/home/acct-bioxsyy/bioxsyy-xyj/xyj/reference/human/GRCh38/bowtie2_index/GCA_000001405.29_GRCh38.p14_genomic\"\n",
    "\n",
    "# 根据要求之分析两个样本\n",
    "sample_info_select = sample_info.loc[sample_info[\"sample_name\"].str.contains(\"RP\") | sample_info[\"sample_name\"].str.contains(\"siNC-1-T\") , :]\n",
    "# sample_info_select.iloc[0,] = [sample_info_select.iloc[0,][\"sample_name\"], \"/dssg/home/acct-bioxsyy/bioxsyy-xyj/xyj/learn/riboseq/wh_data/smmc-siYB1-2-RP/smmc-siYB1-2-RP_S15_L001_R1_001.fastq.gz\", \"/dssg/home/acct-bioxsyy/bioxsyy-xyj/xyj/learn/riboseq/wh_data/smmc-siYB1-2-RP/smmc-siYB1-2-RP_S15_L001_R2_001.fastq.gz\"]\n",
    "\n",
    "def rum_sbatch(x):\n",
    "    # 线程数在这里修改\n",
    "    command = f'sbatch step2_mapping.sh -i {x[\"trimed_forward_fq\"]} -I {x[\"trimed_reverse_fq\"]} -t 12 -n {x[\"sample_name\"]} -r {refernce_path} '\n",
    "    print(f'process sample :  {x[\"sample_name\"]}')\n",
    "    os.system(command)\n",
    "\n",
    "sample_info_select.apply(rum_sbatch, axis=1)"
   ]
  },
  {
   "cell_type": "markdown",
   "metadata": {},
   "source": [
    "### 换成 genecode 的 index 再试一下"
   ]
  },
  {
   "cell_type": "code",
   "execution_count": 11,
   "metadata": {},
   "outputs": [],
   "source": [
    "sample_info[\"sample_name\"] = sample_info[\"sample_name\"] + \"_genecode\""
   ]
  },
  {
   "cell_type": "code",
   "execution_count": 12,
   "metadata": {},
   "outputs": [
    {
     "name": "stdout",
     "output_type": "stream",
     "text": [
      "process sample :  smmc-siYB1-2-RP_genecode\n",
      "Submitted batch job 26517011\n"
     ]
    },
    {
     "data": {
      "text/plain": [
       "1    None\n",
       "dtype: object"
      ]
     },
     "execution_count": 12,
     "metadata": {},
     "output_type": "execute_result"
    }
   ],
   "source": [
    "refernce_path = \"/dssg/home/acct-bioxsyy/bioxsyy-xyj/xyj/reference/human/GRCh38/genecode_assembly/bowtie2_index/GRCh38.p13.genome\"\n",
    "\n",
    "\n",
    "# 只分析 ribo-seq 样本\n",
    "sample_info_select = sample_info.iloc[[1],:] \n",
    "# sample_info_select.iloc[0,] = [sample_info_select.iloc[0,][\"sample_name\"], \"/dssg/home/acct-bioxsyy/bioxsyy-xyj/xyj/learn/riboseq/wh_data/smmc-siYB1-2-RP/smmc-siYB1-2-RP_S15_L001_R1_001.fastq.gz\", \"/dssg/home/acct-bioxsyy/bioxsyy-xyj/xyj/learn/riboseq/wh_data/smmc-siYB1-2-RP/smmc-siYB1-2-RP_S15_L001_R2_001.fastq.gz\"]\n",
    "\n",
    "def rum_sbatch(x):\n",
    "    # 线程数在这里修改\n",
    "    command = f'sbatch step2_mapping.sh -i {x[\"trimed_forward_fq\"]} -I {x[\"trimed_reverse_fq\"]} -t 12 -n {x[\"sample_name\"]} -r {refernce_path} '\n",
    "    print(f'process sample :  {x[\"sample_name\"]}')\n",
    "    os.system(command)\n",
    "\n",
    "sample_info_select.apply(rum_sbatch, axis=1)"
   ]
  },
  {
   "cell_type": "markdown",
   "metadata": {},
   "source": [
    "## STAR 比对\n",
    "\n",
    "* 目前来看，后续想用 RiboCode call ORF ，必须用 STAR 进行比对"
   ]
  },
  {
   "cell_type": "code",
   "execution_count": 17,
   "metadata": {},
   "outputs": [
    {
     "name": "stdout",
     "output_type": "stream",
     "text": [
      "process sample :  smmc-siYB1-2-RP_star\n",
      "Submitted batch job 26528700\n"
     ]
    },
    {
     "data": {
      "text/plain": [
       "0    None\n",
       "dtype: object"
      ]
     },
     "execution_count": 17,
     "metadata": {},
     "output_type": "execute_result"
    }
   ],
   "source": [
    "reference_path = \"/dssg/home/acct-bioxsyy/bioxsyy-xyj/xyj/reference/human/GRCh38/genecode_assembly/STAR_index/\"\n",
    "\n",
    "sample_info_star = sample_info.copy()\n",
    "sample_info_star[\"sample_name\"] = sample_info_star[\"sample_name\"] + \"_star\"\n",
    "# sample_info_star.iloc[0,1] = sample_info_star.iloc[0,1].replace(\".gz\", \"\")\n",
    "\n",
    "def rum_sbatch(x):\n",
    "    # 线程数在这里修改\n",
    "    thread = 16\n",
    "    command = f'sbatch step2_mapping_star.sh -i {x[\"trimed_forward_fq\"]} -I  {x[\"trimed_reverse_fq\"]}  -t {thread} -n {x[\"sample_name\"]} -r {reference_path} '\n",
    "    print(f'process sample :  {x[\"sample_name\"]}')\n",
    "    os.system(command)\n",
    "\n",
    "sample_info_star.apply(rum_sbatch, axis=1)"
   ]
  },
  {
   "cell_type": "code",
   "execution_count": 30,
   "metadata": {},
   "outputs": [],
   "source": [
    "# 单端测序，然后再加上样品名\n",
    "public_sample_info = public_sample_info.drop(columns=[\"trimed_reverse_fq\"]) # 单端测序\n",
    "public_sample_info[\"sample_name\"] = public_sample_info[\"sample_name\"] + \"_star\""
   ]
  },
  {
   "cell_type": "code",
   "execution_count": 32,
   "metadata": {},
   "outputs": [
    {
     "name": "stdout",
     "output_type": "stream",
     "text": [
      "process sample :  SRR1630831_star\n",
      "Submitted batch job 26529272\n"
     ]
    },
    {
     "data": {
      "text/plain": [
       "1    None\n",
       "dtype: object"
      ]
     },
     "execution_count": 32,
     "metadata": {},
     "output_type": "execute_result"
    }
   ],
   "source": [
    "reference_path = \"/dssg/home/acct-bioxsyy/bioxsyy-xyj/xyj/reference/human/GRCh38/genecode_assembly/STAR_index/\"\n",
    "\n",
    "\n",
    "# sample_info_star.iloc[0,1] = sample_info_star.iloc[0,1].replace(\".gz\", \"\")\n",
    "\n",
    "# 这个示例数据是单端测序\n",
    "def rum_sbatch(x):\n",
    "    # 线程数在这里修改\n",
    "    thread = 16\n",
    "    command = f'sbatch step2_mapping_star.sh -i {x[\"trimed_forward_fq\"]}   -t {thread} -n {x[\"sample_name\"]} -r {reference_path} '\n",
    "    print(f'process sample :  {x[\"sample_name\"]}')\n",
    "    os.system(command)\n",
    "\n",
    "public_sample_info.apply(rum_sbatch, axis=1)"
   ]
  },
  {
   "cell_type": "code",
   "execution_count": 31,
   "metadata": {},
   "outputs": [
    {
     "data": {
      "text/html": [
       "<div>\n",
       "<style scoped>\n",
       "    .dataframe tbody tr th:only-of-type {\n",
       "        vertical-align: middle;\n",
       "    }\n",
       "\n",
       "    .dataframe tbody tr th {\n",
       "        vertical-align: top;\n",
       "    }\n",
       "\n",
       "    .dataframe thead th {\n",
       "        text-align: right;\n",
       "    }\n",
       "</style>\n",
       "<table border=\"1\" class=\"dataframe\">\n",
       "  <thead>\n",
       "    <tr style=\"text-align: right;\">\n",
       "      <th></th>\n",
       "      <th>sample_name</th>\n",
       "      <th>trimed_forward_fq</th>\n",
       "    </tr>\n",
       "  </thead>\n",
       "  <tbody>\n",
       "    <tr>\n",
       "      <th>1</th>\n",
       "      <td>SRR1630831_star</td>\n",
       "      <td>/dssg/home/acct-bioxsyy/bioxsyy-xyj/xyj/learn/...</td>\n",
       "    </tr>\n",
       "  </tbody>\n",
       "</table>\n",
       "</div>"
      ],
      "text/plain": [
       "       sample_name                                  trimed_forward_fq\n",
       "1  SRR1630831_star  /dssg/home/acct-bioxsyy/bioxsyy-xyj/xyj/learn/..."
      ]
     },
     "execution_count": 31,
     "metadata": {},
     "output_type": "execute_result"
    }
   ],
   "source": [
    "public_sample_info[\"sample_name\"] = public_sample_info[\"sample_name\"] + \"_star\"\n",
    "\n",
    "public_sample_info"
   ]
  },
  {
   "cell_type": "code",
   "execution_count": null,
   "metadata": {},
   "outputs": [],
   "source": []
  }
 ],
 "metadata": {
  "kernelspec": {
   "display_name": "Python 3.8.17 ('abdockgen': conda)",
   "language": "python",
   "name": "python3"
  },
  "language_info": {
   "codemirror_mode": {
    "name": "ipython",
    "version": 3
   },
   "file_extension": ".py",
   "mimetype": "text/x-python",
   "name": "python",
   "nbconvert_exporter": "python",
   "pygments_lexer": "ipython3",
   "version": "3.8.17"
  },
  "orig_nbformat": 4,
  "vscode": {
   "interpreter": {
    "hash": "5663188dab25683416c9f47dd91c75d98f6d095687054be825dc1f220ac00219"
   }
  }
 },
 "nbformat": 4,
 "nbformat_minor": 2
}
