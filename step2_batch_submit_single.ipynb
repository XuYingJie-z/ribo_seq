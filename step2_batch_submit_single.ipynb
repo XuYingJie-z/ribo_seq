{
 "cells": [
  {
   "cell_type": "code",
   "execution_count": 1,
   "metadata": {},
   "outputs": [],
   "source": [
    "import os,sys\n",
    "import pandas as pd"
   ]
  },
  {
   "cell_type": "code",
   "execution_count": 3,
   "metadata": {},
   "outputs": [],
   "source": [
    "\n",
    "sample_info = pd.DataFrame(columns=[\"sample_name\", \"trimed_forward_fq\"])\n",
    "\n",
    "\n",
    "data_path = os.path.abspath(\"../data\") + \"/\"\n",
    "trimed_path = os.path.abspath(\"../trimmed/\") + \"/\"\n",
    "for path in os.listdir(data_path):\n",
    "    # print(os.path.abspath(path))\n",
    "    if os.path.isdir(data_path + path):\n",
    "        sample_name = path\n",
    "        trimed_forward_fq = trimed_path + sample_name +\"_trimed.fastq.gz\"\n",
    "        sample_info = pd.concat([sample_info, pd.DataFrame([[sample_name, trimed_forward_fq]], columns=[\"sample_name\", \"trimed_forward_fq\"])])\n",
    "\n",
    "sample_info = sample_info.reset_index(drop=True)"
   ]
  },
  {
   "cell_type": "code",
   "execution_count": 5,
   "metadata": {},
   "outputs": [],
   "source": [
    "# 去掉 公共数据\n",
    "public_sample_info = sample_info.loc[ sample_info[\"sample_name\"].str.contains(\"SRR\"), :]\n",
    "sample_info = sample_info.loc[~sample_info[\"sample_name\"].str.contains(\"SRR\"), :]"
   ]
  },
  {
   "cell_type": "markdown",
   "metadata": {},
   "source": [
    "## bowtie2 比对\n",
    "\n",
    "* 目前来看，后续想用 RiboCode call ORF ，必须用 STAR 进行比对"
   ]
  },
  {
   "cell_type": "code",
   "execution_count": 15,
   "metadata": {},
   "outputs": [
    {
     "name": "stdout",
     "output_type": "stream",
     "text": [
      "process sample :  SRR1630831\n",
      "Submitted batch job 26518976\n"
     ]
    },
    {
     "data": {
      "text/plain": [
       "0    None\n",
       "dtype: object"
      ]
     },
     "execution_count": 15,
     "metadata": {},
     "output_type": "execute_result"
    }
   ],
   "source": [
    "refernce_path = \"/dssg/home/acct-bioxsyy/bioxsyy-xyj/xyj/reference/human/GRCh38/ncbi_assembly/bowtie2_index/GCA_000001405.29_GRCh38.p14_genomic\"\n",
    "\n",
    "# 根据要求之分析两个样本\n",
    "sample_info_select = sample_info.loc[sample_info[\"sample_name\"].str.contains(\"RP\") | sample_info[\"sample_name\"].str.contains(\"siNC-1-T\") , :]\n",
    "# sample_info_select.iloc[0,] = [sample_info_select.iloc[0,][\"sample_name\"], \"/dssg/home/acct-bioxsyy/bioxsyy-xyj/xyj/learn/riboseq/wh_data/smmc-siYB1-2-RP/smmc-siYB1-2-RP_S15_L001_R1_001.fastq.gz\", \"/dssg/home/acct-bioxsyy/bioxsyy-xyj/xyj/learn/riboseq/wh_data/smmc-siYB1-2-RP/smmc-siYB1-2-RP_S15_L001_R2_001.fastq.gz\"]\n",
    "\n",
    "def rum_sbatch(x):\n",
    "    # 线程数在这里修改\n",
    "    command = f'sbatch step2_mapping_single.sh -i {x[\"trimed_forward_fq\"]}  -t 12 -n {x[\"sample_name\"]} -r {refernce_path} '\n",
    "    print(f'process sample :  {x[\"sample_name\"]}')\n",
    "    os.system(command)\n",
    "\n",
    "sample_info.apply(rum_sbatch, axis=1)"
   ]
  },
  {
   "cell_type": "markdown",
   "metadata": {},
   "source": [
    "### 换成 genecode 的 index 再试一下"
   ]
  },
  {
   "cell_type": "code",
   "execution_count": 7,
   "metadata": {},
   "outputs": [],
   "source": [
    "sample_info[\"sample_name\"] = sample_info[\"sample_name\"] + \"_genecode\""
   ]
  },
  {
   "cell_type": "code",
   "execution_count": 10,
   "metadata": {},
   "outputs": [
    {
     "name": "stdout",
     "output_type": "stream",
     "text": [
      "process sample :  SRR1630831_genecode\n",
      "Submitted batch job 26518784\n"
     ]
    },
    {
     "data": {
      "text/plain": [
       "0    None\n",
       "dtype: object"
      ]
     },
     "execution_count": 10,
     "metadata": {},
     "output_type": "execute_result"
    }
   ],
   "source": [
    "refernce_path = \"/dssg/home/acct-bioxsyy/bioxsyy-xyj/xyj/reference/human/GRCh38/genecode_assembly/bowtie2_index/GRCh38.p13.genome\"\n",
    "\n",
    "\n",
    "# sample_info_select.iloc[0,] = [sample_info_select.iloc[0,][\"sample_name\"], \"/dssg/home/acct-bioxsyy/bioxsyy-xyj/xyj/learn/riboseq/wh_data/smmc-siYB1-2-RP/smmc-siYB1-2-RP_S15_L001_R1_001.fastq.gz\", \"/dssg/home/acct-bioxsyy/bioxsyy-xyj/xyj/learn/riboseq/wh_data/smmc-siYB1-2-RP/smmc-siYB1-2-RP_S15_L001_R2_001.fastq.gz\"]\n",
    "\n",
    "def rum_sbatch(x):\n",
    "    # 线程数在这里修改\n",
    "    command = f'sbatch step2_mapping_single.sh -i {x[\"trimed_forward_fq\"]}  -t 12 -n {x[\"sample_name\"]} -r {refernce_path} '\n",
    "    print(f'process sample :  {x[\"sample_name\"]}')\n",
    "    os.system(command)\n",
    "\n",
    "sample_info.apply(rum_sbatch, axis=1)"
   ]
  },
  {
   "cell_type": "markdown",
   "metadata": {},
   "source": [
    "## STAR 比对\n",
    "\n",
    "* 目前来看，后续想用 RiboCode call ORF ，必须用 STAR 进行比对"
   ]
  },
  {
   "cell_type": "code",
   "execution_count": 32,
   "metadata": {},
   "outputs": [
    {
     "name": "stdout",
     "output_type": "stream",
     "text": [
      "process sample :  SRR1630831_star\n",
      "Submitted batch job 26521382\n"
     ]
    },
    {
     "data": {
      "text/plain": [
       "0    None\n",
       "dtype: object"
      ]
     },
     "execution_count": 32,
     "metadata": {},
     "output_type": "execute_result"
    }
   ],
   "source": [
    "reference_path = \"/dssg/home/acct-bioxsyy/bioxsyy-xyj/xyj/reference/human/GRCh38/genecode_assembly/STAR_index/\"\n",
    "\n",
    "sample_info_star = sample_info.copy()\n",
    "sample_info_star[\"sample_name\"] = sample_info_star[\"sample_name\"] + \"_star\"\n",
    "sample_info_star.iloc[0,1] = sample_info_star.iloc[0,1].replace(\".gz\", \"\")\n",
    "\n",
    "def rum_sbatch(x):\n",
    "    # 线程数在这里修改\n",
    "    thread = 16\n",
    "    command = f'sbatch step2_mapping_single_star.sh -i {x[\"trimed_forward_fq\"]}  -t {thread} -n {x[\"sample_name\"]} -r {reference_path} '\n",
    "    print(f'process sample :  {x[\"sample_name\"]}')\n",
    "    os.system(command)\n",
    "\n",
    "sample_info_star.apply(rum_sbatch, axis=1)"
   ]
  },
  {
   "cell_type": "code",
   "execution_count": 6,
   "metadata": {},
   "outputs": [
    {
     "name": "stdout",
     "output_type": "stream",
     "text": [
      "process sample :  SRR1630831_star\n",
      "Submitted batch job 26529305\n"
     ]
    },
    {
     "data": {
      "text/plain": [
       "1    None\n",
       "dtype: object"
      ]
     },
     "execution_count": 6,
     "metadata": {},
     "output_type": "execute_result"
    }
   ],
   "source": [
    "reference_path = \"/dssg/home/acct-bioxsyy/bioxsyy-xyj/xyj/reference/human/GRCh38/genecode_assembly/STAR_index/\"\n",
    "\n",
    "public_sample_info_star = public_sample_info.copy()\n",
    "public_sample_info_star[\"sample_name\"] = public_sample_info_star[\"sample_name\"] + \"_star\"\n",
    "\n",
    "def rum_sbatch(x):\n",
    "    # 线程数在这里修改\n",
    "    thread = 16\n",
    "    command = f'sbatch step2_mapping_star.sh -i {x[\"trimed_forward_fq\"]}  -t {thread} -n {x[\"sample_name\"]} -r {reference_path} '\n",
    "    print(f'process sample :  {x[\"sample_name\"]}')\n",
    "    os.system(command)\n",
    "\n",
    "public_sample_info_star.apply(rum_sbatch, axis=1)"
   ]
  }
 ],
 "metadata": {
  "kernelspec": {
   "display_name": "Python 3.8.17 ('abdockgen': conda)",
   "language": "python",
   "name": "python3"
  },
  "language_info": {
   "codemirror_mode": {
    "name": "ipython",
    "version": 3
   },
   "file_extension": ".py",
   "mimetype": "text/x-python",
   "name": "python",
   "nbconvert_exporter": "python",
   "pygments_lexer": "ipython3",
   "version": "3.8.17"
  },
  "orig_nbformat": 4,
  "vscode": {
   "interpreter": {
    "hash": "5663188dab25683416c9f47dd91c75d98f6d095687054be825dc1f220ac00219"
   }
  }
 },
 "nbformat": 4,
 "nbformat_minor": 2
}
